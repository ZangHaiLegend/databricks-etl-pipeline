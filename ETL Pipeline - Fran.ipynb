{
 "cells": [
  {
   "cell_type": "code",
   "execution_count": 0,
   "metadata": {
    "application/vnd.databricks.v1+cell": {
     "cellMetadata": {
      "byteLimit": 2048000,
      "rowLimit": 10000
     },
     "inputWidgets": {},
     "nuid": "b27b687f-7d73-45a0-bcdf-e568cad9933b",
     "showTitle": false,
     "tableResultSettingsMap": {},
     "title": ""
    }
   },
   "outputs": [
    {
     "output_type": "stream",
     "name": "stdout",
     "output_type": "stream",
     "text": [
      "+----------+----------+----------------+\n|      user|      date|engagement_score|\n+----------+----------+----------------+\n|      Fran|2025-06-01|               3|\n|      Fran|2025-06-02|               5|\n|      Fran|2025-06-03|               7|\n|Databricks|2025-06-01|               2|\n|Databricks|2025-06-02|               4|\n|Databricks|2025-06-03|               6|\n+----------+----------+----------------+\n\n"
     ]
    }
   ],
   "source": [
    "# Step 1: Create a sample dataset\n",
    "sample_data = [\n",
    "    (\"Fran\", \"2025-06-01\", 3),\n",
    "    (\"Fran\", \"2025-06-02\", 5),\n",
    "    (\"Fran\", \"2025-06-03\", 7),\n",
    "    (\"Databricks\", \"2025-06-01\", 2),\n",
    "    (\"Databricks\", \"2025-06-02\", 4),\n",
    "    (\"Databricks\", \"2025-06-03\", 6)\n",
    "]\n",
    "\n",
    "# Step 2: Define schema and create DataFrame\n",
    "columns = [\"user\", \"date\", \"engagement_score\"]\n",
    "df = spark.createDataFrame(sample_data, columns)\n",
    "\n",
    "# Step 3: Show the data\n",
    "df.show()\n"
   ]
  },
  {
   "cell_type": "code",
   "execution_count": 0,
   "metadata": {
    "application/vnd.databricks.v1+cell": {
     "cellMetadata": {
      "byteLimit": 2048000,
      "rowLimit": 10000
     },
     "inputWidgets": {},
     "nuid": "d4674ad6-69ec-4701-bbb8-58893e403b98",
     "showTitle": false,
     "tableResultSettingsMap": {},
     "title": ""
    }
   },
   "outputs": [
    {
     "output_type": "stream",
     "name": "stdout",
     "output_type": "stream",
     "text": [
      "+----------+---------+\n|      user|avg_score|\n+----------+---------+\n|      Fran|      5.0|\n|Databricks|      4.0|\n+----------+---------+\n\n"
     ]
    }
   ],
   "source": [
    "# Group by user and calculate average engagement\n",
    "avg_df = df.groupBy(\"user\").avg(\"engagement_score\")\n",
    "\n",
    "# Rename the resulting column\n",
    "avg_df = avg_df.withColumnRenamed(\"avg(engagement_score)\", \"avg_score\")\n",
    "\n",
    "# Show the results\n",
    "avg_df.show()\n"
   ]
  },
  {
   "cell_type": "code",
   "execution_count": 0,
   "metadata": {
    "application/vnd.databricks.v1+cell": {
     "cellMetadata": {
      "byteLimit": 2048000,
      "rowLimit": 10000
     },
     "inputWidgets": {},
     "nuid": "b95b1fcd-2751-4a7b-9504-083e2e475e3a",
     "showTitle": false,
     "tableResultSettingsMap": {},
     "title": ""
    }
   },
   "outputs": [],
   "source": [
    "# Save the transformed data as a Delta Table\n",
    "avg_df.write.format(\"delta\").mode(\"overwrite\").saveAsTable(\"user_avg_scores\")\n"
   ]
  },
  {
   "cell_type": "code",
   "execution_count": 0,
   "metadata": {
    "application/vnd.databricks.v1+cell": {
     "cellMetadata": {
      "byteLimit": 2048000,
      "implicitDf": true,
      "rowLimit": 10000
     },
     "inputWidgets": {},
     "nuid": "26fb4e25-a51c-41c6-9473-487f8299d562",
     "showTitle": false,
     "tableResultSettingsMap": {},
     "title": ""
    }
   },
   "outputs": [
    {
     "output_type": "display_data",
     "data": {
      "text/html": [
       "<style scoped>\n",
       "  .table-result-container {\n",
       "    max-height: 300px;\n",
       "    overflow: auto;\n",
       "  }\n",
       "  table, th, td {\n",
       "    border: 1px solid black;\n",
       "    border-collapse: collapse;\n",
       "  }\n",
       "  th, td {\n",
       "    padding: 5px;\n",
       "  }\n",
       "  th {\n",
       "    text-align: left;\n",
       "  }\n",
       "</style><div class='table-result-container'><table class='table-result'><thead style='background-color: white'><tr><th>user</th><th>avg_score</th></tr></thead><tbody><tr><td>Fran</td><td>5.0</td></tr><tr><td>Databricks</td><td>4.0</td></tr></tbody></table></div>"
      ]
     },
     "metadata": {
      "application/vnd.databricks.v1+output": {
       "addedWidgets": {},
       "aggData": [],
       "aggError": "",
       "aggOverflow": false,
       "aggSchema": [],
       "aggSeriesLimitReached": false,
       "aggType": "",
       "arguments": {},
       "columnCustomDisplayInfos": {},
       "data": [
        [
         "Fran",
         5.0
        ],
        [
         "Databricks",
         4.0
        ]
       ],
       "datasetInfos": [],
       "dbfsResultPath": null,
       "isJsonSchema": true,
       "metadata": {},
       "overflow": false,
       "plotOptions": {
        "customPlotOptions": {},
        "displayType": "table",
        "pivotAggregation": null,
        "pivotColumns": null,
        "xColumns": null,
        "yColumns": null
       },
       "removedWidgets": [],
       "schema": [
        {
         "metadata": "{}",
         "name": "user",
         "type": "\"string\""
        },
        {
         "metadata": "{}",
         "name": "avg_score",
         "type": "\"double\""
        }
       ],
       "type": "table"
      }
     },
     "output_type": "display_data"
    },
    {
     "output_type": "display_data",
     "data": {
      "text/plain": [
       "Databricks visualization. Run in Databricks to view."
      ]
     },
     "metadata": {
      "application/vnd.databricks.v1.subcommand+json": {
       "baseErrorDetails": null,
       "bindings": {},
       "collapsed": false,
       "command": "%sql WITH q AS (SELECT * FROM user_avg_scores) SELECT `user`,SUM(`avg_score`) `column_4f037b4224` FROM q GROUP BY `user`",
       "commandTitle": "Visualization 1",
       "commandType": "auto",
       "commandVersion": 0,
       "commentThread": [],
       "commentsVisible": false,
       "contentSha256Hex": null,
       "customPlotOptions": {
        "redashChart": [
         {
          "key": "type",
          "value": "CHART"
         },
         {
          "key": "options",
          "value": {
           "alignYAxesAtZero": true,
           "coefficient": 1,
           "columnConfigurationMap": {
            "x": {
             "column": "user",
             "id": "column_4f037b4223"
            },
            "y": [
             {
              "column": "avg_score",
              "id": "column_4f037b4224",
              "transform": "SUM"
             }
            ]
           },
           "dateTimeFormat": "DD/MM/YYYY HH:mm",
           "direction": {
            "type": "counterclockwise"
           },
           "error_y": {
            "type": "data",
            "visible": true
           },
           "globalSeriesType": "column",
           "legend": {
            "traceorder": "normal"
           },
           "missingValuesAsZero": true,
           "numberFormat": "0,0.[00000]",
           "percentFormat": "0[.]00%",
           "series": {
            "error_y": {
             "type": "data",
             "visible": true
            },
            "stacking": null
           },
           "seriesOptions": {
            "column_4f037b4224": {
             "name": "avg_score",
             "yAxis": 0
            }
           },
           "showDataLabels": false,
           "sizemode": "diameter",
           "sortX": true,
           "sortY": true,
           "swappedAxes": true,
           "textFormat": "",
           "useAggregationsUi": true,
           "valuesOptions": {},
           "version": 2,
           "xAxis": {
            "labels": {
             "enabled": true
            },
            "type": "-"
           },
           "yAxis": [
            {
             "type": "-"
            },
            {
             "opposite": true,
             "type": "-"
            }
           ]
          }
         }
        ]
       },
       "datasetPreviewNameToCmdIdMap": {},
       "diffDeletes": [],
       "diffInserts": [],
       "displayType": "redashChart",
       "error": null,
       "errorDetails": null,
       "errorSummary": null,
       "errorTraceType": null,
       "finishTime": 0,
       "globalVars": {},
       "guid": "",
       "height": "auto",
       "hideCommandCode": false,
       "hideCommandResult": false,
       "iPythonMetadata": null,
       "inputWidgets": {},
       "isLockedInExamMode": false,
       "latestUser": "a user",
       "latestUserId": null,
       "listResultMetadata": null,
       "metadata": {},
       "nuid": "2ef65e23-6f06-420a-95ec-46520f04ad44",
       "origId": 0,
       "parentHierarchy": [],
       "pivotAggregation": null,
       "pivotColumns": null,
       "position": 5.0,
       "resultDbfsErrorMessage": null,
       "resultDbfsStatus": "INLINED_IN_TREE",
       "results": null,
       "showCommandTitle": false,
       "startTime": 0,
       "state": "input",
       "streamStates": {},
       "subcommandOptions": {
        "queryPlan": {
         "groups": [
          {
           "column": "user",
           "type": "column"
          }
         ],
         "selects": [
          {
           "column": "user",
           "type": "column"
          },
          {
           "alias": "column_4f037b4224",
           "args": [
            {
             "column": "avg_score",
             "type": "column"
            }
           ],
           "function": "SUM",
           "type": "function"
          }
         ]
        }
       },
       "submitTime": 0,
       "subtype": "tableResultSubCmd.visualization",
       "tableResultIndex": 0,
       "tableResultSettingsMap": {},
       "useConsistentColors": false,
       "version": "CommandV1",
       "width": "auto",
       "workflows": [],
       "xColumns": null,
       "yColumns": null
      }
     },
     "output_type": "display_data"
    }
   ],
   "source": [
    "%sql\n",
    "\n",
    "SELECT * FROM user_avg_scores;\n"
   ]
  },
  {
   "cell_type": "markdown",
   "metadata": {
    "application/vnd.databricks.v1+cell": {
     "cellMetadata": {},
     "inputWidgets": {},
     "nuid": "90227e9a-16e8-4fb1-9796-5f29ad11c9d4",
     "showTitle": false,
     "tableResultSettingsMap": {},
     "title": ""
    }
   },
   "source": [
    "## 📝 Project Summary: Mini ETL Pipeline in Databricks\n",
    "\n",
    "**Objective**: Practice foundational Databricks and Spark skills by simulating a simple ETL pipeline using PySpark and Delta Lake.\n",
    "\n",
    "### Steps Performed:\n",
    "1. **Ingested data**: Created a small sample dataset representing user engagement over time.\n",
    "2. **Transformed data**: Calculated average engagement scores using groupBy and aggregation.\n",
    "3. **Loaded data**: Saved the results to a Delta Table called `user_avg_scores`.\n",
    "4. **Queried data using SQL**: Verified results via SQL and visualized the outcome as a bar chart.\n",
    "\n",
    "### Key Skills Demonstrated:\n",
    "- Spark DataFrame operations in PySpark\n",
    "- Aggregation and data transformation\n",
    "- Writing and querying Delta Tables\n",
    "- SQL and visual insights inside Databricks\n"
   ]
  },
  {
   "cell_type": "code",
   "execution_count": 0,
   "metadata": {
    "application/vnd.databricks.v1+cell": {
     "cellMetadata": {},
     "inputWidgets": {},
     "nuid": "d7c82b79-1632-42f4-8b0a-617e6bd7b854",
     "showTitle": false,
     "tableResultSettingsMap": {},
     "title": ""
    }
   },
   "outputs": [],
   "source": []
  }
 ],
 "metadata": {
  "application/vnd.databricks.v1+notebook": {
   "computePreferences": null,
   "dashboards": [],
   "environmentMetadata": {
    "base_environment": "",
    "environment_version": "1"
   },
   "inputWidgetPreferences": null,
   "language": "python",
   "notebookMetadata": {
    "mostRecentlyExecutedCommandWithImplicitDF": {
     "commandId": 270197147507257,
     "dataframes": [
      "_sqldf"
     ]
    },
    "pythonIndentUnit": 4
   },
   "notebookName": "ETL Pipeline - Fran",
   "widgets": {}
  }
 },
 "nbformat": 4,
 "nbformat_minor": 0
}